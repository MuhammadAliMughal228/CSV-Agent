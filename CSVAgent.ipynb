{
  "nbformat": 4,
  "nbformat_minor": 0,
  "metadata": {
    "colab": {
      "provenance": [],
      "gpuType": "V28"
    },
    "kernelspec": {
      "name": "python3",
      "display_name": "Python 3"
    },
    "language_info": {
      "name": "python"
    },
    "accelerator": "TPU"
  },
  "cells": [
    {
      "cell_type": "code",
      "execution_count": null,
      "metadata": {
        "id": "57e8AVNRL-nN"
      },
      "outputs": [],
      "source": [
        "!pip install genai"
      ]
    },
    {
      "cell_type": "code",
      "source": [
        "from langchain_experimental.agents import create_csv_agent\n",
        "from langchain_groq import ChatGroq\n",
        "from google.colab import userdata\n",
        "import pandas as pd\n",
        "# Retrieve the Groq API key from Colab userdata\n",
        "groq_api_key = userdata.get('groq_api_key')\n",
        "# Initialize the ChatGroq model\n",
        "llm = ChatGroq(api_key=groq_api_key, model_name=\"mixtral-8x7b-32768\")\n",
        "# Path for the single CSV file for testing\n",
        "test_csv_file = \"/content/previous1.csv\"\n",
        "# Load the CSV into a DataFrame\n",
        "test_data = pd.read_csv(test_csv_file)\n",
        "# Create an agent that can process the single CSV data, allowing dangerous code execution\n",
        "csv_agent = create_csv_agent(llm, test_csv_file, allow_dangerous_code=True)\n",
        "# Query the agent with a specific question\n",
        "# response1 = csv_agent.run(\"Which region has the highest '% of households who have home library'?\")\n",
        "# #response2 = csv_agent.run(\"Total number of 'Male' in 'Gender' column?\")\n",
        "# response = csv_agent.run(\"Compare the values between Riyadh and Eastern Region?\")\n",
        "# response = csv_agent.run(\"Show all regions and their values for the date 2/18/00?\")\n",
        "# response = csv_agent.run(\"What is higest value in 'amount' column?.\")\n",
        "# response = csv_agent.run(\"What is total number of 'Gas Company' in description column?.\")\n",
        "# response = csv_agent.run(\"What is lowest value in 'amount' column?.\")\n",
        "# response = csv_agent.run(\"What is total values of 'debit'?.\")\n",
        "response = csv_agent.run(\"What is total number of 'debit' record?.\")\n",
        "print(response)\n",
        "# print(response2)"
      ],
      "metadata": {
        "colab": {
          "base_uri": "https://localhost:8080/"
        },
        "id": "nwCCRxS5MFZw",
        "outputId": "162ed10f-d4a9-4b78-96d7-e5712a7b0597"
      },
      "execution_count": 14,
      "outputs": [
        {
          "output_type": "stream",
          "name": "stdout",
          "text": [
            "The total number of 'debit' records is `df['transaction type'].value_counts()['debit']`.\n"
          ]
        }
      ]
    }
  ]
}